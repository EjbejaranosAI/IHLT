{
  "cells": [
    {
      "cell_type": "markdown",
      "metadata": {
        "id": "g_EpFrPkuKaF"
      },
      "source": [
        "# Lab 5: Lexical semantics\n",
        "\n",
        "Authors: Edison Jair Bejarano Sepulveda - Roberto Ariosa\n",
        "\n",
        "\n",
        "## Statement:\n",
        "\n",
        "- Given the following (lemma, category) pairs:\n",
        "\n",
        " * ('the','DT'), ('man','NN'), ('swim','VB'), ('with', 'PR'), ('a', 'DT'),\n",
        "('girl','NN'), ('and', 'CC'), ('a', 'DT'), ('boy', 'NN'), ('whilst', 'PR'),\n",
        "('the', 'DT'), ('woman', 'NN'), ('walk', 'VB')\n",
        "\n",
        "\n",
        "1. For each pair, when possible, print their most frequent WordNet synset, their corresponding least common subsumer (LCS) and their similarity value, using the following functions:\n",
        "\n",
        "  - Path Similarity\n",
        "\n",
        "  - Leacock-Chodorow Similarity\n",
        "\n",
        " - Wu-Palmer Similarity\n",
        "\n",
        "  - Lin Similarity\n",
        "\n",
        "2. Normalize similarity values when necessary. What similarity seems better?\n"
      ]
    },
    {
      "cell_type": "markdown",
      "metadata": {
        "id": "5fPu_JT8XxAr"
      },
      "source": [
        "## 0. Libraries and initial lemmas"
      ]
    },
    {
      "cell_type": "code",
      "execution_count": 1,
      "metadata": {
        "colab": {
          "base_uri": "https://localhost:8080/"
        },
        "id": "O1g3oyU7tV53",
        "outputId": "1f7a7f57-18b0-4414-de76-b2cc33771cb1"
      },
      "outputs": [
        {
          "name": "stderr",
          "output_type": "stream",
          "text": [
            "[nltk_data] Downloading package wordnet to /root/nltk_data...\n",
            "[nltk_data] Downloading package wordnet_ic to /root/nltk_data...\n",
            "[nltk_data]   Unzipping corpora/wordnet_ic.zip.\n",
            "[nltk_data] Downloading package omw-1.4 to /root/nltk_data...\n"
          ]
        }
      ],
      "source": [
        "import nltk\n",
        "import pandas as pd\n",
        "import matplotlib.pyplot as plt\n",
        "import numpy as np\n",
        "import seaborn as sns\n",
        "\n",
        "from nltk.corpus import wordnet as wn\n",
        "from nltk.corpus import wordnet_ic\n",
        "\n",
        "nltk.download('wordnet')\n",
        "nltk.download('wordnet_ic')\n",
        "nltk.download('omw-1.4')\n",
        "\n",
        "words = [\n",
        "    ('the','DT'),\n",
        "    ('man','NN'),\n",
        "    ('swim','VB'),\n",
        "    ('with', 'PR'),\n",
        "    ('a', 'DT'),\n",
        "    ('girl','NN'),\n",
        "    ('and', 'CC'),\n",
        "    ('a', 'DT'),\n",
        "    ('boy', 'NN'),\n",
        "    ('whilst', 'PR'),\n",
        "    ('the', 'DT'),\n",
        "    ('woman', 'NN'),\n",
        "    ('walk', 'VB')\n",
        "]"
      ]
    },
    {
      "cell_type": "markdown",
      "metadata": {
        "id": "oSkCvU0IVkCQ"
      },
      "source": [
        "## 1. Most frequent WordNet synset"
      ]
    },
    {
      "cell_type": "code",
      "execution_count": 2,
      "metadata": {
        "colab": {
          "base_uri": "https://localhost:8080/",
          "height": 238
        },
        "id": "j4WKjCad8foM",
        "outputId": "3b02e5bf-09cf-48f4-eb11-ab5f39254a45"
      },
      "outputs": [
        {
          "data": {
            "text/html": [
              "\n",
              "  <div id=\"df-4f6edc7a-69ff-4a55-94bb-77e1bd7bb0e5\">\n",
              "    <div class=\"colab-df-container\">\n",
              "      <div>\n",
              "<style scoped>\n",
              "    .dataframe tbody tr th:only-of-type {\n",
              "        vertical-align: middle;\n",
              "    }\n",
              "\n",
              "    .dataframe tbody tr th {\n",
              "        vertical-align: top;\n",
              "    }\n",
              "\n",
              "    .dataframe thead th {\n",
              "        text-align: right;\n",
              "    }\n",
              "</style>\n",
              "<table border=\"1\" class=\"dataframe\">\n",
              "  <thead>\n",
              "    <tr style=\"text-align: right;\">\n",
              "      <th></th>\n",
              "      <th>word</th>\n",
              "      <th>pos</th>\n",
              "      <th>most_frequent_synset</th>\n",
              "    </tr>\n",
              "  </thead>\n",
              "  <tbody>\n",
              "    <tr>\n",
              "      <th>0</th>\n",
              "      <td>man</td>\n",
              "      <td>NN</td>\n",
              "      <td>Synset('man.n.01')</td>\n",
              "    </tr>\n",
              "    <tr>\n",
              "      <th>1</th>\n",
              "      <td>girl</td>\n",
              "      <td>NN</td>\n",
              "      <td>Synset('girl.n.01')</td>\n",
              "    </tr>\n",
              "    <tr>\n",
              "      <th>2</th>\n",
              "      <td>boy</td>\n",
              "      <td>NN</td>\n",
              "      <td>Synset('male_child.n.01')</td>\n",
              "    </tr>\n",
              "    <tr>\n",
              "      <th>3</th>\n",
              "      <td>woman</td>\n",
              "      <td>NN</td>\n",
              "      <td>Synset('woman.n.01')</td>\n",
              "    </tr>\n",
              "    <tr>\n",
              "      <th>4</th>\n",
              "      <td>swim</td>\n",
              "      <td>VB</td>\n",
              "      <td>Synset('swim.v.01')</td>\n",
              "    </tr>\n",
              "    <tr>\n",
              "      <th>5</th>\n",
              "      <td>walk</td>\n",
              "      <td>VB</td>\n",
              "      <td>Synset('walk.v.01')</td>\n",
              "    </tr>\n",
              "  </tbody>\n",
              "</table>\n",
              "</div>\n",
              "      <button class=\"colab-df-convert\" onclick=\"convertToInteractive('df-4f6edc7a-69ff-4a55-94bb-77e1bd7bb0e5')\"\n",
              "              title=\"Convert this dataframe to an interactive table.\"\n",
              "              style=\"display:none;\">\n",
              "        \n",
              "  <svg xmlns=\"http://www.w3.org/2000/svg\" height=\"24px\"viewBox=\"0 0 24 24\"\n",
              "       width=\"24px\">\n",
              "    <path d=\"M0 0h24v24H0V0z\" fill=\"none\"/>\n",
              "    <path d=\"M18.56 5.44l.94 2.06.94-2.06 2.06-.94-2.06-.94-.94-2.06-.94 2.06-2.06.94zm-11 1L8.5 8.5l.94-2.06 2.06-.94-2.06-.94L8.5 2.5l-.94 2.06-2.06.94zm10 10l.94 2.06.94-2.06 2.06-.94-2.06-.94-.94-2.06-.94 2.06-2.06.94z\"/><path d=\"M17.41 7.96l-1.37-1.37c-.4-.4-.92-.59-1.43-.59-.52 0-1.04.2-1.43.59L10.3 9.45l-7.72 7.72c-.78.78-.78 2.05 0 2.83L4 21.41c.39.39.9.59 1.41.59.51 0 1.02-.2 1.41-.59l7.78-7.78 2.81-2.81c.8-.78.8-2.07 0-2.86zM5.41 20L4 18.59l7.72-7.72 1.47 1.35L5.41 20z\"/>\n",
              "  </svg>\n",
              "      </button>\n",
              "      \n",
              "  <style>\n",
              "    .colab-df-container {\n",
              "      display:flex;\n",
              "      flex-wrap:wrap;\n",
              "      gap: 12px;\n",
              "    }\n",
              "\n",
              "    .colab-df-convert {\n",
              "      background-color: #E8F0FE;\n",
              "      border: none;\n",
              "      border-radius: 50%;\n",
              "      cursor: pointer;\n",
              "      display: none;\n",
              "      fill: #1967D2;\n",
              "      height: 32px;\n",
              "      padding: 0 0 0 0;\n",
              "      width: 32px;\n",
              "    }\n",
              "\n",
              "    .colab-df-convert:hover {\n",
              "      background-color: #E2EBFA;\n",
              "      box-shadow: 0px 1px 2px rgba(60, 64, 67, 0.3), 0px 1px 3px 1px rgba(60, 64, 67, 0.15);\n",
              "      fill: #174EA6;\n",
              "    }\n",
              "\n",
              "    [theme=dark] .colab-df-convert {\n",
              "      background-color: #3B4455;\n",
              "      fill: #D2E3FC;\n",
              "    }\n",
              "\n",
              "    [theme=dark] .colab-df-convert:hover {\n",
              "      background-color: #434B5C;\n",
              "      box-shadow: 0px 1px 3px 1px rgba(0, 0, 0, 0.15);\n",
              "      filter: drop-shadow(0px 1px 2px rgba(0, 0, 0, 0.3));\n",
              "      fill: #FFFFFF;\n",
              "    }\n",
              "  </style>\n",
              "\n",
              "      <script>\n",
              "        const buttonEl =\n",
              "          document.querySelector('#df-4f6edc7a-69ff-4a55-94bb-77e1bd7bb0e5 button.colab-df-convert');\n",
              "        buttonEl.style.display =\n",
              "          google.colab.kernel.accessAllowed ? 'block' : 'none';\n",
              "\n",
              "        async function convertToInteractive(key) {\n",
              "          const element = document.querySelector('#df-4f6edc7a-69ff-4a55-94bb-77e1bd7bb0e5');\n",
              "          const dataTable =\n",
              "            await google.colab.kernel.invokeFunction('convertToInteractive',\n",
              "                                                     [key], {});\n",
              "          if (!dataTable) return;\n",
              "\n",
              "          const docLinkHtml = 'Like what you see? Visit the ' +\n",
              "            '<a target=\"_blank\" href=https://colab.research.google.com/notebooks/data_table.ipynb>data table notebook</a>'\n",
              "            + ' to learn more about interactive tables.';\n",
              "          element.innerHTML = '';\n",
              "          dataTable['output_type'] = 'display_data';\n",
              "          await google.colab.output.renderOutput(dataTable, element);\n",
              "          const docLink = document.createElement('div');\n",
              "          docLink.innerHTML = docLinkHtml;\n",
              "          element.appendChild(docLink);\n",
              "        }\n",
              "      </script>\n",
              "    </div>\n",
              "  </div>\n",
              "  "
            ],
            "text/plain": [
              "    word pos       most_frequent_synset\n",
              "0    man  NN         Synset('man.n.01')\n",
              "1   girl  NN        Synset('girl.n.01')\n",
              "2    boy  NN  Synset('male_child.n.01')\n",
              "3  woman  NN       Synset('woman.n.01')\n",
              "4   swim  VB        Synset('swim.v.01')\n",
              "5   walk  VB        Synset('walk.v.01')"
            ]
          },
          "execution_count": 2,
          "metadata": {},
          "output_type": "execute_result"
        }
      ],
      "source": [
        "# Only select the words that are nouns or verbs\n",
        "valid_words = sorted([ (word, pos) for word, pos in words if pos == 'NN' or pos == 'VB' ], key = lambda w: w[1])\n",
        "\n",
        "# Initialize\n",
        "most_frequent_synset_df = pd.DataFrame(columns=['word', 'pos', 'most_frequent_synset'])\n",
        "synsets = {}\n",
        "\n",
        "for word, pos in valid_words:\n",
        "  # Find the most frequent synset\n",
        "  most_frequent_synset = None\n",
        "  if pos == 'NN':\n",
        "    most_frequent_synset = wn.synset(word + '.n.01')\n",
        "  elif pos == 'VB':\n",
        "    most_frequent_synset = wn.synset(word + '.v.01')\n",
        "  else:\n",
        "    continue\n",
        "\n",
        "  # Store the WordNet synset for later\n",
        "  synsets[word] = most_frequent_synset\n",
        "\n",
        "  # Store the most frequent synset  \n",
        "  most_frequent_synset_df = most_frequent_synset_df.append({\n",
        "      'word': word,\n",
        "      'pos': pos,\n",
        "      'most_frequent_synset': most_frequent_synset\n",
        "  }, ignore_index=True)\n",
        "\n",
        "# Display result\n",
        "most_frequent_synset_df"
      ]
    },
    {
      "cell_type": "markdown",
      "metadata": {
        "id": "a8KbnyxkWa1G"
      },
      "source": [
        "## 2. Least common subsumer (LCS)"
      ]
    },
    {
      "cell_type": "code",
      "execution_count": 3,
      "metadata": {
        "colab": {
          "base_uri": "https://localhost:8080/",
          "height": 238
        },
        "id": "oru4pfQl9NTN",
        "outputId": "8270d0c3-6546-4dcb-dcad-dd197eb8bc79"
      },
      "outputs": [
        {
          "data": {
            "text/html": [
              "\n",
              "  <div id=\"df-c615cb71-3cb8-40e4-8f47-af17033a81b7\">\n",
              "    <div class=\"colab-df-container\">\n",
              "      <div>\n",
              "<style scoped>\n",
              "    .dataframe tbody tr th:only-of-type {\n",
              "        vertical-align: middle;\n",
              "    }\n",
              "\n",
              "    .dataframe tbody tr th {\n",
              "        vertical-align: top;\n",
              "    }\n",
              "\n",
              "    .dataframe thead th {\n",
              "        text-align: right;\n",
              "    }\n",
              "</style>\n",
              "<table border=\"1\" class=\"dataframe\">\n",
              "  <thead>\n",
              "    <tr style=\"text-align: right;\">\n",
              "      <th></th>\n",
              "      <th>man</th>\n",
              "      <th>girl</th>\n",
              "      <th>boy</th>\n",
              "      <th>woman</th>\n",
              "      <th>swim</th>\n",
              "      <th>walk</th>\n",
              "    </tr>\n",
              "  </thead>\n",
              "  <tbody>\n",
              "    <tr>\n",
              "      <th>man</th>\n",
              "      <td>[Synset('man.n.01')]</td>\n",
              "      <td>[Synset('adult.n.01')]</td>\n",
              "      <td>[Synset('male.n.02')]</td>\n",
              "      <td>[Synset('adult.n.01')]</td>\n",
              "      <td>NaN</td>\n",
              "      <td>NaN</td>\n",
              "    </tr>\n",
              "    <tr>\n",
              "      <th>girl</th>\n",
              "      <td>[Synset('adult.n.01')]</td>\n",
              "      <td>[Synset('girl.n.01')]</td>\n",
              "      <td>[Synset('person.n.01')]</td>\n",
              "      <td>[Synset('woman.n.01')]</td>\n",
              "      <td>NaN</td>\n",
              "      <td>NaN</td>\n",
              "    </tr>\n",
              "    <tr>\n",
              "      <th>boy</th>\n",
              "      <td>[Synset('male.n.02')]</td>\n",
              "      <td>[Synset('person.n.01')]</td>\n",
              "      <td>[Synset('male_child.n.01')]</td>\n",
              "      <td>[Synset('person.n.01')]</td>\n",
              "      <td>NaN</td>\n",
              "      <td>NaN</td>\n",
              "    </tr>\n",
              "    <tr>\n",
              "      <th>woman</th>\n",
              "      <td>[Synset('adult.n.01')]</td>\n",
              "      <td>[Synset('woman.n.01')]</td>\n",
              "      <td>[Synset('person.n.01')]</td>\n",
              "      <td>[Synset('woman.n.01')]</td>\n",
              "      <td>NaN</td>\n",
              "      <td>NaN</td>\n",
              "    </tr>\n",
              "    <tr>\n",
              "      <th>swim</th>\n",
              "      <td>NaN</td>\n",
              "      <td>NaN</td>\n",
              "      <td>NaN</td>\n",
              "      <td>NaN</td>\n",
              "      <td>[Synset('swim.v.01')]</td>\n",
              "      <td>[Synset('travel.v.01')]</td>\n",
              "    </tr>\n",
              "    <tr>\n",
              "      <th>walk</th>\n",
              "      <td>NaN</td>\n",
              "      <td>NaN</td>\n",
              "      <td>NaN</td>\n",
              "      <td>NaN</td>\n",
              "      <td>[Synset('travel.v.01')]</td>\n",
              "      <td>[Synset('walk.v.01')]</td>\n",
              "    </tr>\n",
              "  </tbody>\n",
              "</table>\n",
              "</div>\n",
              "      <button class=\"colab-df-convert\" onclick=\"convertToInteractive('df-c615cb71-3cb8-40e4-8f47-af17033a81b7')\"\n",
              "              title=\"Convert this dataframe to an interactive table.\"\n",
              "              style=\"display:none;\">\n",
              "        \n",
              "  <svg xmlns=\"http://www.w3.org/2000/svg\" height=\"24px\"viewBox=\"0 0 24 24\"\n",
              "       width=\"24px\">\n",
              "    <path d=\"M0 0h24v24H0V0z\" fill=\"none\"/>\n",
              "    <path d=\"M18.56 5.44l.94 2.06.94-2.06 2.06-.94-2.06-.94-.94-2.06-.94 2.06-2.06.94zm-11 1L8.5 8.5l.94-2.06 2.06-.94-2.06-.94L8.5 2.5l-.94 2.06-2.06.94zm10 10l.94 2.06.94-2.06 2.06-.94-2.06-.94-.94-2.06-.94 2.06-2.06.94z\"/><path d=\"M17.41 7.96l-1.37-1.37c-.4-.4-.92-.59-1.43-.59-.52 0-1.04.2-1.43.59L10.3 9.45l-7.72 7.72c-.78.78-.78 2.05 0 2.83L4 21.41c.39.39.9.59 1.41.59.51 0 1.02-.2 1.41-.59l7.78-7.78 2.81-2.81c.8-.78.8-2.07 0-2.86zM5.41 20L4 18.59l7.72-7.72 1.47 1.35L5.41 20z\"/>\n",
              "  </svg>\n",
              "      </button>\n",
              "      \n",
              "  <style>\n",
              "    .colab-df-container {\n",
              "      display:flex;\n",
              "      flex-wrap:wrap;\n",
              "      gap: 12px;\n",
              "    }\n",
              "\n",
              "    .colab-df-convert {\n",
              "      background-color: #E8F0FE;\n",
              "      border: none;\n",
              "      border-radius: 50%;\n",
              "      cursor: pointer;\n",
              "      display: none;\n",
              "      fill: #1967D2;\n",
              "      height: 32px;\n",
              "      padding: 0 0 0 0;\n",
              "      width: 32px;\n",
              "    }\n",
              "\n",
              "    .colab-df-convert:hover {\n",
              "      background-color: #E2EBFA;\n",
              "      box-shadow: 0px 1px 2px rgba(60, 64, 67, 0.3), 0px 1px 3px 1px rgba(60, 64, 67, 0.15);\n",
              "      fill: #174EA6;\n",
              "    }\n",
              "\n",
              "    [theme=dark] .colab-df-convert {\n",
              "      background-color: #3B4455;\n",
              "      fill: #D2E3FC;\n",
              "    }\n",
              "\n",
              "    [theme=dark] .colab-df-convert:hover {\n",
              "      background-color: #434B5C;\n",
              "      box-shadow: 0px 1px 3px 1px rgba(0, 0, 0, 0.15);\n",
              "      filter: drop-shadow(0px 1px 2px rgba(0, 0, 0, 0.3));\n",
              "      fill: #FFFFFF;\n",
              "    }\n",
              "  </style>\n",
              "\n",
              "      <script>\n",
              "        const buttonEl =\n",
              "          document.querySelector('#df-c615cb71-3cb8-40e4-8f47-af17033a81b7 button.colab-df-convert');\n",
              "        buttonEl.style.display =\n",
              "          google.colab.kernel.accessAllowed ? 'block' : 'none';\n",
              "\n",
              "        async function convertToInteractive(key) {\n",
              "          const element = document.querySelector('#df-c615cb71-3cb8-40e4-8f47-af17033a81b7');\n",
              "          const dataTable =\n",
              "            await google.colab.kernel.invokeFunction('convertToInteractive',\n",
              "                                                     [key], {});\n",
              "          if (!dataTable) return;\n",
              "\n",
              "          const docLinkHtml = 'Like what you see? Visit the ' +\n",
              "            '<a target=\"_blank\" href=https://colab.research.google.com/notebooks/data_table.ipynb>data table notebook</a>'\n",
              "            + ' to learn more about interactive tables.';\n",
              "          element.innerHTML = '';\n",
              "          dataTable['output_type'] = 'display_data';\n",
              "          await google.colab.output.renderOutput(dataTable, element);\n",
              "          const docLink = document.createElement('div');\n",
              "          docLink.innerHTML = docLinkHtml;\n",
              "          element.appendChild(docLink);\n",
              "        }\n",
              "      </script>\n",
              "    </div>\n",
              "  </div>\n",
              "  "
            ],
            "text/plain": [
              "                          man                     girl  \\\n",
              "man      [Synset('man.n.01')]   [Synset('adult.n.01')]   \n",
              "girl   [Synset('adult.n.01')]    [Synset('girl.n.01')]   \n",
              "boy     [Synset('male.n.02')]  [Synset('person.n.01')]   \n",
              "woman  [Synset('adult.n.01')]   [Synset('woman.n.01')]   \n",
              "swim                      NaN                      NaN   \n",
              "walk                      NaN                      NaN   \n",
              "\n",
              "                               boy                    woman  \\\n",
              "man          [Synset('male.n.02')]   [Synset('adult.n.01')]   \n",
              "girl       [Synset('person.n.01')]   [Synset('woman.n.01')]   \n",
              "boy    [Synset('male_child.n.01')]  [Synset('person.n.01')]   \n",
              "woman      [Synset('person.n.01')]   [Synset('woman.n.01')]   \n",
              "swim                           NaN                      NaN   \n",
              "walk                           NaN                      NaN   \n",
              "\n",
              "                          swim                     walk  \n",
              "man                        NaN                      NaN  \n",
              "girl                       NaN                      NaN  \n",
              "boy                        NaN                      NaN  \n",
              "woman                      NaN                      NaN  \n",
              "swim     [Synset('swim.v.01')]  [Synset('travel.v.01')]  \n",
              "walk   [Synset('travel.v.01')]    [Synset('walk.v.01')]  "
            ]
          },
          "execution_count": 3,
          "metadata": {},
          "output_type": "execute_result"
        }
      ],
      "source": [
        "# Initialize\n",
        "lcs_df = pd.DataFrame(\n",
        "    columns = [word for word, pos in valid_words],\n",
        "    index = [word for word, pos in valid_words]\n",
        ")\n",
        "\n",
        "for word1, pos1 in valid_words:\n",
        "  for word2, pos2 in valid_words:\n",
        "    # WordNet only allows to find a LCS for words with the same pos tag\n",
        "    if pos1 == pos2:\n",
        "      lcs_df[word1][word2] = synsets[word1].lowest_common_hypernyms(synsets[word2])\n",
        "\n",
        "# Display result\n",
        "lcs_df"
      ]
    },
    {
      "cell_type": "markdown",
      "metadata": {
        "id": "I5r9xlaRXQs9"
      },
      "source": [
        "## 3.1 Similarity value: Path similarity"
      ]
    },
    {
      "cell_type": "code",
      "execution_count": 4,
      "metadata": {
        "colab": {
          "base_uri": "https://localhost:8080/",
          "height": 432
        },
        "id": "1kHzKBj7BXMM",
        "outputId": "f53668bf-edd8-4c96-a9e7-c6ca730e6f87"
      },
      "outputs": [
        {
          "data": {
            "image/png": "[encoded data removed]",
            "text/plain": [
              "<Figure size 576x504 with 2 Axes>"
            ]
          },
          "metadata": {
            "needs_background": "light"
          },
          "output_type": "display_data"
        }
      ],
      "source": [
        "# Initialize\n",
        "path_similarity_df = pd.DataFrame(\n",
        "    columns = [word for word, pos in valid_words],\n",
        "    index = [word for word, pos in valid_words],\n",
        "    dtype = float\n",
        ")\n",
        "\n",
        "# Find path similarity for each pair\n",
        "for word1, pos1 in valid_words:\n",
        "  for word2, pos2 in valid_words:\n",
        "    similarity = synsets[word1].path_similarity(synsets[word2])\n",
        "    path_similarity_df[word1][word2] = similarity\n",
        "\n",
        "# Normalize\n",
        "df_min = path_similarity_df.min()\n",
        "df_max = path_similarity_df.max()\n",
        "path_similarity_df = (path_similarity_df - df_min) / (df_max - df_min)\n",
        "\n",
        "# Plot results\n",
        "plt.figure(figsize=(8, 7))\n",
        "sns.heatmap(path_similarity_df, annot=True)\n",
        "plt.show()"
      ]
    },
    {
      "cell_type": "markdown",
      "metadata": {
        "id": "-H3tsBWzXceU"
      },
      "source": [
        "## 3.2 Similarity value: Leacock-Chodorow Similarity"
      ]
    },
    {
      "cell_type": "code",
      "execution_count": 5,
      "metadata": {
        "colab": {
          "base_uri": "https://localhost:8080/",
          "height": 432
        },
        "id": "8nNM1je-DBd2",
        "outputId": "917cd565-df48-446f-b905-114805b17bc4"
      },
      "outputs": [
        {
          "data": {
            "image/png": "[encoded data removed]",
            "text/plain": [
              "<Figure size 576x504 with 2 Axes>"
            ]
          },
          "metadata": {
            "needs_background": "light"
          },
          "output_type": "display_data"
        }
      ],
      "source": [
        "# Initialize\n",
        "lch_similarity_df = pd.DataFrame(\n",
        "    columns = [word for word, pos in valid_words],\n",
        "    index = [word for word, pos in valid_words],\n",
        "    dtype = float\n",
        ")\n",
        "\n",
        "# Find Leacock-Chodorow Similarity for each pair\n",
        "for word1, pos1 in valid_words:\n",
        "  for word2, pos2 in valid_words:\n",
        "    # Only valid for words with the same pos tag\n",
        "    if pos1 == pos2:\n",
        "      similarity = synsets[word1].lch_similarity(synsets[word2])\n",
        "      lch_similarity_df[word1][word2] = similarity\n",
        "\n",
        "# Normalize\n",
        "df_min = lch_similarity_df.min()\n",
        "df_max = lch_similarity_df.max()\n",
        "lch_similarity_df = (lch_similarity_df - df_min) / (df_max - df_min)\n",
        "\n",
        "# Plot results\n",
        "plt.figure(figsize=(8, 7))\n",
        "sns.heatmap(lch_similarity_df, annot=True)\n",
        "plt.show()"
      ]
    },
    {
      "cell_type": "markdown",
      "metadata": {
        "id": "kLFLyDymXfZ9"
      },
      "source": [
        "## 3.3 Similarity value: Wu-Palmer similarity"
      ]
    },
    {
      "cell_type": "code",
      "execution_count": 6,
      "metadata": {
        "colab": {
          "base_uri": "https://localhost:8080/",
          "height": 432
        },
        "id": "6176xaqeDs4m",
        "outputId": "bc661c48-1c9f-4fa5-c522-ab80d9ede6be"
      },
      "outputs": [
        {
          "data": {
            "image/png": "[encoded data removed]",
            "text/plain": [
              "<Figure size 576x504 with 2 Axes>"
            ]
          },
          "metadata": {
            "needs_background": "light"
          },
          "output_type": "display_data"
        }
      ],
      "source": [
        "# Initialize\n",
        "wup_similarity_df = pd.DataFrame(\n",
        "    columns = [word for word, pos in valid_words],\n",
        "    index = [word for word, pos in valid_words],\n",
        "    dtype = float\n",
        ")\n",
        "\n",
        "# Find Wu-Palmer similarity for each pair\n",
        "for word1, pos1 in valid_words:\n",
        "  for word2, pos2 in valid_words:\n",
        "    similarity = synsets[word1].wup_similarity(synsets[word2])\n",
        "    wup_similarity_df[word1][word2] = similarity\n",
        "\n",
        "# Normalize\n",
        "#df_min = wup_similarity_df.min()\n",
        "#df_max = wup_similarity_df.max()\n",
        "#wup_similarity_df = (wup_similarity_df - df_min) / (df_max - df_min)\n",
        "\n",
        "# Plot results\n",
        "plt.figure(figsize=(8, 7))\n",
        "sns.heatmap(wup_similarity_df, annot=True)\n",
        "plt.show()"
      ]
    },
    {
      "cell_type": "markdown",
      "metadata": {
        "id": "FQMfo9mjXhIe"
      },
      "source": [
        "## 3.4 Similarity value: Lin similarity"
      ]
    },
    {
      "cell_type": "code",
      "execution_count": 7,
      "metadata": {
        "colab": {
          "base_uri": "https://localhost:8080/",
          "height": 432
        },
        "id": "S0BEdxDhE9tN",
        "outputId": "4e689235-5694-453d-daa0-bd2a00233715"
      },
      "outputs": [
        {
          "data": {
            "image/png": "[encoded data removed]",
            "text/plain": [
              "<Figure size 576x504 with 2 Axes>"
            ]
          },
          "metadata": {
            "needs_background": "light"
          },
          "output_type": "display_data"
        }
      ],
      "source": [
        "# Initialize\n",
        "lin_similarity_df = pd.DataFrame(\n",
        "    columns = [word for word, pos in valid_words],\n",
        "    index = [word for word, pos in valid_words],\n",
        "    dtype = float\n",
        ")\n",
        "\n",
        "# Get Information Content\n",
        "brown_ic = wordnet_ic.ic('ic-brown.dat')\n",
        "\n",
        "# Calculate Lin similarity for each pair\n",
        "for word1, pos1 in valid_words:\n",
        "  for word2, pos2 in valid_words:\n",
        "    # Only valid for words with the same pos tag\n",
        "    if pos1 == pos2:\n",
        "      similarity = synsets[word1].lin_similarity(synsets[word2], brown_ic)\n",
        "      lin_similarity_df[word1][word2] = similarity\n",
        "\n",
        "# Normalize\n",
        "#df_min = lin_similarity_df.min()\n",
        "#df_max = lin_similarity_df.max()\n",
        "#lin_similarity_df = (lin_similarity_df - df_min) / (df_max - df_min)\n",
        "\n",
        "# Plot results\n",
        "plt.figure(figsize=(8, 7))\n",
        "sns.heatmap(lin_similarity_df, annot=True)\n",
        "plt.show()"
      ]
    },
    {
      "cell_type": "markdown",
      "metadata": {
        "id": "m5id23HgXj6d"
      },
      "source": [
        "## 4. Conclusions\n",
        "\n",
        "- What similarity seems better?"
      ]
    },
    {
      "cell_type": "markdown",
      "metadata": {
        "id": "B0yY_ONSZ0eA"
      },
      "source": [
        "Having a look at the results obtained, we can deduce that Lin similarity is the best to use. Lin similarity can differentiate gender much better than other similarities, like Wu Palmer. It also has simmetric results, where in Wu Palmer we can see that the similarity between the woman and girl is not the same as the one between girl and woman.\n",
        "\n",
        "Other similaries have similar results, but Lin is the most consistent one."
      ]
    }
  ],
  "metadata": {
    "colab": {
      "collapsed_sections": [],
      "provenance": []
    },
    "kernelspec": {
      "display_name": "ihlt",
      "language": "python",
      "name": "python3"
    },
    "language_info": {
      "name": "python",
      "version": "3.10.6 (main, Nov 14 2022, 16:10:14) [GCC 11.3.0]"
    },
    "vscode": {
      "interpreter": {
        "hash": "fa43b751724397a87c3b84c610829cf8cbda33feaf25e5c8b52c076495a6f563"
      }
    }
  },
  "nbformat": 4,
  "nbformat_minor": 0
}
